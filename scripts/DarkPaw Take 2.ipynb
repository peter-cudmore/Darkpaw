{
 "cells": [
  {
   "cell_type": "markdown",
   "metadata": {},
   "source": [
    "## Defining the Variables\n",
    "\n",
    "Let\n",
    "- $(x, y, z, \\theta)$ be the position and orientation of the Darkpaw centre of mass\n",
    "- $q_i$ be the joint angles of the $i$th leg\n",
    "- $u_i$ are the motor configuration for the $ith$ leg. (Decision Variables)\n",
    "- $A_iq_i + B_iu_i = 0$ are the planar angle constraints\n",
    "- $G(q_i) = 0$ linkage constraits.\n",
    "- $|u_i^j| < \\pi/2$ are the motor bounds.\n",
    "- $r_i(q_i)$ is the position of the $i$th leg w.r.t the centre of mass\n",
    "- $\\alpha_i \\in \\{ 0, 1\\}$ be an integer variable representing whether the $i$th leg is in contact or flight respectively.\n",
    "\n",
    "## Angle Coordinates\n",
    "\n"
   ]
  },
  {
   "cell_type": "markdown",
   "metadata": {},
   "source": [
    "## Problem\n",
    "Given a desired velocity $\\dot{X} = (v_x, v_y, 0, \\omega)$, work out what $u_i(t)$ over an interval.\n",
    "\n",
    "\n",
    "## Constraints (in $r$):\n",
    "\n",
    "1. $\\sum_i \\alpha_i <= 1$  (at least 3 legs on the ground at all times) **linear integer**\n",
    "2. $0 \\in \\text{co-hull}(\\{r_i \\}_{i:\\alpha_i=0})$ (C.O.M in inside supporting polygon) **linear**\n",
    "3. For $\\alpha_i = 0$, $\\dot{r}_i = (v_x, v_y, 0) + \\omega( r_i(q_i) \\times e_z)$ (moves at desired velocity) **linear**"
   ]
  },
  {
   "cell_type": "code",
   "execution_count": 4,
   "metadata": {},
   "outputs": [],
   "source": [
    "import matplotlib.pyplot as plt\n",
    "p_0 = [-1,-1]\n"
   ]
  },
  {
   "cell_type": "markdown",
   "metadata": {},
   "source": [
    "Expanding\n",
    "$$\n",
    "\\dot{r}_i = \\left(\\frac{\\partial r_i}{\\partial q_i^j}\\right)\\dot{q_j} \\approx \\frac{1}{\\delta t}R_i(q[n])\\ (q[n+1] - q[n])\n",
    "$$\n",
    "Hence we want\n",
    "$$\n",
    "R_i(q[n])\\ (q[n+1] - q[n]) = \\delta t \\left[(v_x, v_y, 0) + \\omega( r_i(q_i) \\times e_z)\\right]\n",
    "$$\n",
    "which is linear in $q[n+1] = A_i^\\dagger B_iu$ \n",
    "## Constraints in ($q$)\n",
    "\n",
    "1. If $\\sum_i \\alpha_i = 0$, we should pick $\\alpha$ to move iff $u_i$ is entering the reset zone.\n",
    "2. \n"
   ]
  },
  {
   "cell_type": "code",
   "execution_count": null,
   "metadata": {},
   "outputs": [],
   "source": []
  }
 ],
 "metadata": {
  "kernelspec": {
   "display_name": "Python 3",
   "language": "python",
   "name": "python3"
  },
  "language_info": {
   "codemirror_mode": {
    "name": "ipython",
    "version": 3
   },
   "file_extension": ".py",
   "mimetype": "text/x-python",
   "name": "python",
   "nbconvert_exporter": "python",
   "pygments_lexer": "ipython3",
   "version": "3.8.5"
  }
 },
 "nbformat": 4,
 "nbformat_minor": 4
}
