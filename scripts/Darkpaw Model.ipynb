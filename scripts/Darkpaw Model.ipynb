{
 "cells": [
  {
   "cell_type": "code",
   "execution_count": 1,
   "metadata": {},
   "outputs": [],
   "source": [
    "import sympy as sp\n",
    "from model import *\n",
    "from sympy import sqrt, acos, atan"
   ]
  },
  {
   "cell_type": "code",
   "execution_count": 2,
   "metadata": {},
   "outputs": [],
   "source": [
    "L_Da = (T(motor_offset_x, motor_offset_top) @ R(m_t) @ T(0, motor_arm_top)) @ o\n",
    "L_Db = (R(sp.pi - phi) @ T(Y_h, - Y_i)) @ o\n",
    "L_D = L_Da - L_Db\n",
    "\n",
    "constraint = sp.simplify(sp.expand(L_D.T @ L_D - l_d ** 2, 0))\n",
    "constraint = sp.expand_trig(constraint)\n",
    "s_t, c_t = sp.symbols('s_t, c_t')\n",
    "constraint = constraint.subs([(sp.sin(m_t), s_t), (sp.cos(m_t), c_t)])\n",
    "constraint = sp.collect(constraint, [sp.cos(phi), sp.sin(phi)])\n",
    "# Using Harmonic Addition a*cos(x) +b*sin(x) = c*cos(x+alpha) = k\n",
    "At = (225.0*c_t - 1170.0*s_t + 2593.5) #coeff of cos(phi)\n",
    "Bt = (-1170.0*c_t - 225.0*s_t - 27.0) # coeff of sin(phi)\n",
    "K = 195.0*c_t - 960.0*s_t + 2192.5 # constant\n",
    "Ct = sp.sqrt(sp.expand(At**2 + Bt**2).subs(s_t, sp.sqrt( 1- c_t**2)))\n",
    "alpha = sp.atan(-Bt/At)\n",
    "\n",
    "# eqn for phi\n",
    "# - K =  c cos(phi + alpha)\n",
    "Phi = sp.acos(-K/Ct) + alpha\n",
    "Phi = phi.subs(sp.sqrt(1-c_t**2), s_t)"
   ]
  },
  {
   "cell_type": "code",
   "execution_count": 3,
   "metadata": {},
   "outputs": [
    {
     "data": {
      "text/plain": [
       "15.0"
      ]
     },
     "execution_count": 3,
     "metadata": {},
     "output_type": "execute_result"
    }
   ],
   "source": [
    "Y_o- Y_i\n"
   ]
  },
  {
   "cell_type": "code",
   "execution_count": 4,
   "metadata": {},
   "outputs": [],
   "source": [
    "\n",
    "L_Ba = (T(motor_offset_x, motor_offset_bottom) @ R(np.pi + m_b) @ T(0, motor_arm_bottom)) @ o\n",
    "L_Bb = R(theta) @ T(0, -D_section_b) @ o\n",
    "L_B = L_Ba - L_Bb\n",
    "\n",
    "constraint_b = sp.simplify(sp.expand(L_B.T @ L_B - l_b ** 2, 0))\n",
    "constraint_b = sp.simplify(sp.expand_trig(constraint_b).expand())\n",
    "constraint_b = sp.expand_trig(constraint_b)\n",
    "\n",
    "s_b, c_b = sp.symbols('s_b, c_b')\n",
    "constraint_b = constraint_b.subs([(sp.sin(m_b), s_b), (sp.cos(m_b), c_b)])\n",
    "constraint_b = sp.collect(constraint_b, [sp.cos(theta), sp.sin(theta)])\n",
    "\n",
    "At_b = 650.0*c_b - 338.0\n",
    "Bt_b = 650.0*s_b - 1664.0\n",
    "K_b = -602.5 + 162.5*c_b + 800.0*s_b\n",
    "\n",
    "ABsqrd = 422500.0 - 439400.0*c_b - 2163200.0*s_b + 2883140.0 #  At_b**2 + Bt_b**2\n",
    "Ct_b = sp.sqrt(ABsqrd)\n",
    "\n",
    "alpha_b = sp.atan(-Bt_b/At_b)\n",
    "\n",
    "Theta = sp.acos(-K_b/Ct_b) + alpha_b"
   ]
  },
  {
   "cell_type": "code",
   "execution_count": null,
   "metadata": {},
   "outputs": [],
   "source": []
  },
  {
   "cell_type": "code",
   "execution_count": 5,
   "metadata": {},
   "outputs": [
    {
     "ename": "NameError",
     "evalue": "name 'constraint_c' is not defined",
     "output_type": "error",
     "traceback": [
      "\u001b[0;31m---------------------------------------------------------------------------\u001b[0m",
      "\u001b[0;31mNameError\u001b[0m                                 Traceback (most recent call last)",
      "\u001b[0;32m<ipython-input-5-8cb7e5f15b1b>\u001b[0m in \u001b[0;36m<module>\u001b[0;34m\u001b[0m\n\u001b[0;32m----> 1\u001b[0;31m \u001b[0msp\u001b[0m\u001b[0;34m.\u001b[0m\u001b[0msimplify\u001b[0m\u001b[0;34m(\u001b[0m\u001b[0mconstraint_c\u001b[0m\u001b[0;34m)\u001b[0m\u001b[0;34m\u001b[0m\u001b[0;34m\u001b[0m\u001b[0m\n\u001b[0m",
      "\u001b[0;31mNameError\u001b[0m: name 'constraint_c' is not defined"
     ]
    }
   ],
   "source": [
    "sp.simplify(constraint_c)"
   ]
  },
  {
   "cell_type": "code",
   "execution_count": null,
   "metadata": {},
   "outputs": [],
   "source": [
    "print(THETA+PHI)\n"
   ]
  },
  {
   "cell_type": "code",
   "execution_count": null,
   "metadata": {},
   "outputs": [],
   "source": [
    "acos((-162.5*c_b - 800.0*s_b + 602.5)/sqrt(-439400.0*c_b - 2163200.0*s_b + 3305640.0)) + acos((-195.0*c_t + 960.0*s_t - 2192.5)/sqrt(1230255.0*c_t - 6056640.0*s_t + 8146496.25))"
   ]
  },
  {
   "cell_type": "code",
   "execution_count": null,
   "metadata": {},
   "outputs": [],
   "source": [
    "acx = (-162.5*c_b - 800.0*s_b + 602.5)/sqrt(-439400.0*c_b - 2163200.0*s_b + 3305640.0)\n",
    "acy = (-195.0*c_t + 960.0*s_t - 2192.5)/sqrt(1230255.0*c_t - 6056640.0*s_t + 8146496.25)\n",
    "atx = (1664.0 - 650.0*s_b)/(650.0*c_b - 338.0)\n",
    "aty = (1170.0*c_t + 225.0*s_t + 27.0)/(225.0*c_t - 1170.0*s_t + 2593.5)"
   ]
  },
  {
   "cell_type": "code",
   "execution_count": null,
   "metadata": {},
   "outputs": [],
   "source": [
    "(1-acx**2)*(1-acy**2)"
   ]
  },
  {
   "cell_type": "code",
   "execution_count": null,
   "metadata": {},
   "outputs": [],
   "source": [
    "for i in range(len(L_Bb)):\n",
    "    try:\n",
    "        L_Bb[i] = L_Bb[i].subs(theta, THETA).simplify()\n",
    "    except:\n",
    "        pass"
   ]
  },
  {
   "cell_type": "code",
   "execution_count": null,
   "metadata": {},
   "outputs": [],
   "source": [
    "L_Bb"
   ]
  },
  {
   "cell_type": "code",
   "execution_count": null,
   "metadata": {},
   "outputs": [],
   "source": []
  },
  {
   "cell_type": "code",
   "execution_count": null,
   "metadata": {},
   "outputs": [],
   "source": [
    "angles"
   ]
  },
  {
   "cell_type": "code",
   "execution_count": 8,
   "metadata": {},
   "outputs": [
    {
     "data": {
      "text/latex": [
       "$\\displaystyle 3502.5 \\left(0.356316916488223 z_{0}^{2} z_{1}^{2} + 0.0685224839400428 i z_{0}^{2} z_{1}^{2} - 0.356316916488223 z_{0}^{2} z_{1} z_{4} - 0.0685224839400428 i z_{0}^{2} z_{1} z_{4} - 0.450321199143469 z_{0} z_{1}^{2} + 1.0 z_{0} z_{1} z_{4} - 0.450321199143469 z_{0} z_{4}^{2} - 0.356316916488223 z_{1} z_{4} + 0.0685224839400428 i z_{1} z_{4} + 0.356316916488223 z_{4}^{2} - 0.0685224839400428 i z_{4}^{2}\\right)$"
      ],
      "text/plain": [
       "3502.5*(0.356316916488223*z_0**2*z_1**2 + 0.0685224839400428*I*z_0**2*z_1**2 - 0.356316916488223*z_0**2*z_1*z_4 - 0.0685224839400428*I*z_0**2*z_1*z_4 - 0.450321199143469*z_0*z_1**2 + 1.0*z_0*z_1*z_4 - 0.450321199143469*z_0*z_4**2 - 0.356316916488223*z_1*z_4 + 0.0685224839400428*I*z_1*z_4 + 0.356316916488223*z_4**2 - 0.0685224839400428*I*z_4**2)"
      ]
     },
     "execution_count": 8,
     "metadata": {},
     "output_type": "execute_result"
    }
   ],
   "source": [
    "Complex_Linkage_C_Constraint().factor()"
   ]
  },
  {
   "cell_type": "code",
   "execution_count": 6,
   "metadata": {},
   "outputs": [
    {
     "data": {
      "text/plain": [
       "[z_0*z_3*(-169.0*z_0 - 832*I*z_0 + 81.25*z_3 + 400.0*I*z_3 + 602.5) - z_0*(325.0*z_0 - 81.25 + 400.0*I) - z_3*(325.0*z_3 + 169.0 - 832*I),\n",
       " z_0*z_1**2*(1248*z_0 + 240.0*I*z_0 - 1577.25) - z_0*z_1*z_4*(1248*z_0 + 240.0*I*z_0 - 3502.5) - 1577.25*z_0*z_4**2 - z_1*z_4*(1248 - 240.0*I) + z_4**2*(1248 - 240.0*I),\n",
       " -z_4*z_5*(1296.75*z_4 + 13.5*I*z_4 - 97.5*z_5 + 480*I*z_5 - 2192.5) - z_4*(112.5*z_4 + 585*I*z_4 - 97.5 - 480*I) - z_5*(112.5*z_5 - 585*I*z_5 + 1296.75 - 13.5*I)]"
      ]
     },
     "execution_count": 6,
     "metadata": {},
     "output_type": "execute_result"
    }
   ],
   "source": [
    "[Complex_Linkage_B_Constraint(), Complex_Linkage_C_Constraint(), Complex_Linkage_D_Constraint()]"
   ]
  },
  {
   "cell_type": "code",
   "execution_count": null,
   "metadata": {},
   "outputs": [],
   "source": [
    "sol."
   ]
  },
  {
   "cell_type": "code",
   "execution_count": null,
   "metadata": {},
   "outputs": [],
   "source": []
  }
 ],
 "metadata": {
  "kernelspec": {
   "display_name": "python-3.7.6",
   "language": "python",
   "name": "python-3.7.6"
  },
  "language_info": {
   "codemirror_mode": {
    "name": "ipython",
    "version": 3
   },
   "file_extension": ".py",
   "mimetype": "text/x-python",
   "name": "python",
   "nbconvert_exporter": "python",
   "pygments_lexer": "ipython3",
   "version": "3.7.6"
  }
 },
 "nbformat": 4,
 "nbformat_minor": 4
}
