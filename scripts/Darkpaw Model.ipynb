{
 "cells": [
  {
   "cell_type": "code",
   "execution_count": 1,
   "metadata": {},
   "outputs": [],
   "source": [
    "import sympy as sp\n",
    "import numpy as np\n",
    "from model import S, R, T, to_line, tan_simplify, Maclaurin_series, simplify_array, Taylor_series, truncate, diff_on_S1, jacobian\n",
    "import model as m\n",
    "from sympy import sqrt, acos, atan, symbols\n",
    "from numpy.linalg import norm, inv\n",
    "import matplotlib.pyplot as plt\n",
    "from mpl_toolkits.mplot3d import Axes3D\n",
    "%matplotlib notebook\n",
    "plt.ion()"
   ]
  },
  {
   "cell_type": "code",
   "execution_count": 111,
   "metadata": {},
   "outputs": [],
   "source": [
    "r , constraints = m.get_leg_position()\n",
    "Z = sp.symbols('z_a, z_d, z_y')\n",
    "M = sp.symbols(r'\\alpha_h, \\alpha_r, \\alpha_b')\n",
    "z_a, z_d, z_y = Z\n",
    "Beta = m.beta_A, m.beta_D, m.beta_Y\n",
    "U = m.u_h, m.u_r, m.u_b\n",
    "a_h, a_r, a_b = M\n",
    "subs = []\n",
    "\n",
    "for z, u in zip(M, U):\n",
    "    subs.extend([(sp.sin(u), (z - 1/z)/2j),  (sp.cos(u), (z + 1/z)/2)])\n",
    "    \n",
    "for z, beta in zip(Z,Beta):\n",
    "    subs.extend([(sp.sin(beta), (z - 1/z)/2j),  (sp.cos(beta), (z + 1/z)/2)])\n",
    "        \n",
    "r = [sp.simplify(r_i.subs(subs)) for r_i in r]\n",
    "constraints = [sp.simplify(sp.expand_trig(c).subs(subs)) for c in constraints]\n",
    "#r[0] = sp.expand(r[0]* z_a * z_d * z_y)\n",
    "#r[1] = sp.expand(r[1]*z_a*z_d*z_d*z_y)\n",
    "#r[2]= sp.expand(r[2]*z_y*z_d)\n",
    "constraints[0] = truncate(sp.expand(constraints[0]))\n",
    "constraints[1] = sp.expand(constraints[1]*a_h*z_d)\n",
    "constraints[2] = sp.expand(constraints[2]*z_y*a_r)\n",
    "\n",
    "#\n",
    "# want d/dt \n",
    "# \n",
    "F, w = jacobian(r)"
   ]
  },
  {
   "cell_type": "code",
   "execution_count": 127,
   "metadata": {},
   "outputs": [],
   "source": [
    "G, w_ref = jacobian(constraints)\n",
    "dG_z = G[0:3, ::2]\n",
    "dG_a = G[0:3, 1::2]\n"
   ]
  },
  {
   "cell_type": "markdown",
   "metadata": {},
   "source": [
    "### Goal\n",
    "In the body frame, we have the $i$ th leg \n",
    "$$ (x,y,z)_i^T = f_i(\\theta^i_t, \\theta^i_m, \\theta^i_b)$$\n",
    "we want to choose a function $\\theta^i_t, \\theta^i_m, \\theta^i_b = \\gamma(s)$ such that $s \\in [0, 1]$\n",
    "\n",
    "Each leg consists of two 4R linkages and a parallelogram.\n",
    "\n",
    "Two key pivot points are given by the horizontal plane of the D brace.\n",
    "\n",
    "The two RRRR linkages define two derived angles."
   ]
  },
  {
   "cell_type": "code",
   "execution_count": null,
   "metadata": {},
   "outputs": [],
   "source": [
    "beta_D, beta_Y = sp.symbols(r'\\beta_D, \\beta_y', real=True)\n",
    "u_r, u_h = sp.symbols('u_r, u_h', real=True)"
   ]
  },
  {
   "cell_type": "code",
   "execution_count": null,
   "metadata": {},
   "outputs": [],
   "source": [
    "Leg_Pivot = R(beta_D) @ T(m.D_section_e, 0) @ R(-beta_D)\n",
    "Leg_Bottom = Leg_Pivot @ R(beta_Y) @ T(m.leg_pivot_to_foot_x, m.leg_pivot_to_foot_y)"
   ]
  },
  {
   "cell_type": "code",
   "execution_count": null,
   "metadata": {},
   "outputs": [],
   "source": [
    "# For R(beta_Y)\n",
    "Y_inner = R(beta_Y) @ T(m.Y_i,m.Y_h) @ R(-beta_Y)\n",
    "Y_outer = R(beta_Y) @ T(m.Y_o,m.Y_h) @ R(-beta_Y)\n",
    "D_bottom = R(beta_D) @ T(0, m.D_section_b) @ R(-beta_D) \n",
    "Top_Motor = T(m.motor_offset_x, m.motor_offset_top)   \n",
    "Top_Motor_Anchor = Top_Motor @ R(u_r) @ T(0, m.motor_arm_top) @ R(-u_r) \n",
    "Bottom_Motor = T(m.motor_offset_x, m.motor_offset_bottom)\n",
    "Bottom_Motor_Anchor = Bottom_Motor @ R(u_h) @ T(0, m.motor_arm_bottom) @ R(-u_h)"
   ]
  },
  {
   "cell_type": "code",
   "execution_count": null,
   "metadata": {},
   "outputs": [],
   "source": [
    "## Bottom Linkage constraint\n",
    "C_b = ((Bottom_Motor_Anchor - D_bottom).T) @ (Bottom_Motor_Anchor - D_bottom)\n",
    "simplify_array(C_b)\n",
    "f_b = sp.simplify(sp.expand(C_b[2,2] - m.l_b**2))\n",
    "# f_b = f_b.subs(u_h, sp.asin(u_h))\n",
    "F_b = sp.lambdify((u_h, beta_D),f_b )\n",
    "theta = np.linspace(-np.pi/2, np.pi/2, 30)\n",
    "interval = np.linspace(-1/2, 1/2, 30)\n",
    "xz_i, yz_i = np.meshgrid(interval, theta)\n",
    "plt.contour(xz_i, yz_i, F_b(xz_i,yz_i), [0])"
   ]
  },
  {
   "cell_type": "code",
   "execution_count": null,
   "metadata": {},
   "outputs": [],
   "source": [
    "eq = sp.collect(sp.expand_trig(f_b), beta_D)\n",
    "f_beta_d = tan_simplify(eq, beta_D, implicit=False, positive_branch=True)\n",
    "beta_d_series = (Maclaurin_series(f_beta_d, u_h, order=1) - sp.pi)\n",
    "f_beta_d_series = sp.lambdify(u_h, beta_d_series)\n",
    "plt.contour(xz_i,yz_i, F_b(xz_i,yz_i), [0])\n",
    "plt.plot(theta, f_beta_d_series(theta), ':')"
   ]
  },
  {
   "cell_type": "code",
   "execution_count": null,
   "metadata": {},
   "outputs": [],
   "source": [
    "## Top Linkage Constraint\n",
    "C_t = ((Top_Motor_Anchor - Y_inner).T )@  (Top_Motor_Anchor - Y_inner)\n",
    "C_t = simplify_array(C_t)\n",
    "        \n",
    "f_t = sp.simplify(sp.expand(C_t[2,2] - m.l_d**2))\n",
    "# f_t = sp.simplify(f_t.subs(u_r, sp.atan(u_r)))\n",
    "F_t = sp.lambdify((u_r, beta_Y), f_t)\n",
    "\n",
    "eq = sp.collect(sp.expand_trig(f_t), beta_Y)\n",
    "f_beta_Y_i = tan_simplify(eq, beta_Y, implicit=True)\n",
    "f_beta_Y = tan_simplify(eq, beta_Y, implicit=False)\n",
    "beta_Y_series = Taylor_series(f_beta_Y, u_r, 0, order=1)\n",
    "f_beta_Y_series = sp.lambdify(u_r, beta_Y_series)\n",
    "xz, yz = np.meshgrid(theta, theta)\n",
    "plt.contour(xz,yz, F_t(xz,yz), [0])\n",
    "#plt.contour(xz,yz, sp.lambdify((u_r, beta_Y), sp.re(f_beta_Y_i))(xz,yz), [0], linestyles='dotted')\n",
    "plt.plot(theta, f_beta_Y_series(theta), ':')\n",
    "beta_Y_series"
   ]
  },
  {
   "cell_type": "code",
   "execution_count": null,
   "metadata": {},
   "outputs": [],
   "source": [
    "subs = [(beta_Y, beta_Y_series), (beta_D, beta_d_series)] "
   ]
  },
  {
   "cell_type": "code",
   "execution_count": null,
   "metadata": {},
   "outputs": [],
   "source": [
    "\n",
    "p = Leg_Pivot @ m.o\n",
    "mt = Top_Motor @ m.o\n",
    "mb = Bottom_Motor @ m.o\n",
    "\n",
    "#plt.plot(*to_line(Leg_Pivot @ m.o, m.o))\n",
    "#plt.plot(*to_line(Leg_Bottom @ m.o, p))\n",
    "#plt.plot(*to_line(Y_inner @ m.o, m.o))\n",
    "#plt.plot(*to_line(Y_outer @ m.o, m.o))\n",
    "#plt.plot(*to_line(Y_outer @ p, p))\n",
    "#plt.plot(*to_line(D_bottom@ m.o, p))\n",
    "#plt.plot(*to_line(D_bottom@ m.o, m.o))\n",
    "#plt.plot(*to_line(Y_outer @ p, Y_outer @ m.o))\n",
    "#plt.plot(*to_line(Y_outer @ p,Leg_Bottom @ m.o ))\n",
    "#plt.plot(*to_line(Top_Motor @ m.o , m.o))\n",
    "#plt.plot(*to_line(Bottom_Motor@m.o, m.o))\n",
    "#plt.plot(*to_line(Bottom_Motor_Anchor@m.o, mb))\n",
    "#plt.plot(*to_line(Top_Motor_Anchor @m.o, mt))"
   ]
  },
  {
   "cell_type": "code",
   "execution_count": null,
   "metadata": {},
   "outputs": [],
   "source": [
    "foot = simplify_array(Leg_Bottom) @m.o\n",
    "foot[0] = tan_simplify(foot[0], beta_Y)\n",
    "foot[1] = tan_simplify(foot[1], beta_Y)\n"
   ]
  },
  {
   "cell_type": "code",
   "execution_count": null,
   "metadata": {},
   "outputs": [],
   "source": [
    "foot_x = sp.lambdify((u_r, u_h), foot[0].subs(subs))\n",
    "foot_y = sp.lambdify((u_r, u_h), foot[1].subs(subs))"
   ]
  },
  {
   "cell_type": "code",
   "execution_count": null,
   "metadata": {},
   "outputs": [],
   "source": [
    "fig = plt.figure()\n",
    "ax = fig.add_subplot(111, projection='3d')\n",
    "ax.plot_surface(xz,yz, foot_x(xz,yz) - foot_x(0,0))\n",
    "\n",
    "ax.set_xlabel('Top Motor Angle')\n",
    "ax.set_ylabel('Bottom Motor Angle')"
   ]
  },
  {
   "cell_type": "code",
   "execution_count": null,
   "metadata": {},
   "outputs": [],
   "source": [
    "fig = plt.figure()\n",
    "ax = fig.add_subplot(111, projection='3d')\n",
    "ax.plot_surface(xz,yz, foot_y(xz,yz) - foot_y(0,0))\n",
    "a = ax.plot([0],[0], [0])"
   ]
  },
  {
   "cell_type": "code",
   "execution_count": null,
   "metadata": {},
   "outputs": [],
   "source": [
    "plt.figure()\n",
    "plt.contour(xz,yz, foot_y(xz,yz) - foot_y(0,0), [0, 2, 5, 10, 15])"
   ]
  },
  {
   "cell_type": "code",
   "execution_count": null,
   "metadata": {
    "scrolled": true
   },
   "outputs": [],
   "source": [
    "# Level Set \n",
    "# h =  foot_y(b_d, b_y) - foot_y(0, 0)\n",
    "# which is h = −32.0sin(𝛽𝐷)−76.4852927038918cos(𝛽𝑦−0.197395559849881)+68.710755215083\n",
    "beta_d_ref = -sp.asin(2.39016539699662*sp.cos(beta_Y - 0.197395559849881))\n",
    "f_beta_ref = sp.lambdify(beta_Y, beta_d_ref) \n"
   ]
  },
  {
   "cell_type": "code",
   "execution_count": null,
   "metadata": {},
   "outputs": [],
   "source": [
    "foot[1].diff(beta_D), foot[1].diff(beta_Y)"
   ]
  },
  {
   "cell_type": "code",
   "execution_count": null,
   "metadata": {},
   "outputs": [],
   "source": [
    "beta_d_series - beta_d_ref"
   ]
  },
  {
   "cell_type": "code",
   "execution_count": null,
   "metadata": {
    "scrolled": true
   },
   "outputs": [],
   "source": [
    "print(beta_ref)"
   ]
  },
  {
   "cell_type": "code",
   "execution_count": null,
   "metadata": {},
   "outputs": [],
   "source": [
    "sp.expand_trig(f_b).subs(sp.cos(beta_D), beta_D).subs(sp.sin(beta_D), sp.sqrt(1 - beta_D**2))"
   ]
  },
  {
   "cell_type": "code",
   "execution_count": null,
   "metadata": {},
   "outputs": [],
   "source": [
    "sp.solveset(f_b.subs(u_h, 0))"
   ]
  },
  {
   "cell_type": "code",
   "execution_count": null,
   "metadata": {},
   "outputs": [],
   "source": [
    "from scipy.optimize import root"
   ]
  },
  {
   "cell_type": "code",
   "execution_count": null,
   "metadata": {},
   "outputs": [],
   "source": [
    "f_b_lambda = lambda X: [abs(sp.lambdify((beta_D, u_h), f_b)(X[0], X[1])), X[1]]\n",
    "root(f_b_lambda, x0=[0, 0]).x[0]"
   ]
  },
  {
   "cell_type": "code",
   "execution_count": null,
   "metadata": {},
   "outputs": [],
   "source": [
    "_"
   ]
  },
  {
   "cell_type": "code",
   "execution_count": null,
   "metadata": {},
   "outputs": [],
   "source": [
    "f_t_lambda =  lambda X: [abs(sp.lambdify((beta_Y, u_r), f_t)(X[0], X[1])), X[1]]\n",
    "root(f_t_lambda, x0=[0, 0]).x[0]"
   ]
  },
  {
   "cell_type": "code",
   "execution_count": null,
   "metadata": {},
   "outputs": [],
   "source": [
    "f_b"
   ]
  },
  {
   "cell_type": "code",
   "execution_count": null,
   "metadata": {},
   "outputs": [],
   "source": [
    "a[0].__dict__"
   ]
  },
  {
   "cell_type": "code",
   "execution_count": null,
   "metadata": {},
   "outputs": [],
   "source": []
  }
 ],
 "metadata": {
  "kernelspec": {
   "display_name": "Python 3",
   "language": "python",
   "name": "python3"
  },
  "language_info": {
   "codemirror_mode": {
    "name": "ipython",
    "version": 3
   },
   "file_extension": ".py",
   "mimetype": "text/x-python",
   "name": "python",
   "nbconvert_exporter": "python",
   "pygments_lexer": "ipython3",
   "version": "3.8.3"
  }
 },
 "nbformat": 4,
 "nbformat_minor": 4
}
