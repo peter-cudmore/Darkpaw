{
 "cells": [
  {
   "cell_type": "code",
   "execution_count": 2,
   "metadata": {},
   "outputs": [],
   "source": [
    "import sympy as sp\n",
    "import numpy as np\n",
    "import cvxpy as cp\n",
    "import matplotlib.pyplot as plt\n",
    "\n",
    "from mpl_toolkits.mplot3d import Axes3D\n",
    "import model as mdl\n",
    "%matplotlib notebook\n",
    "plt.ion()\n",
    "\n",
    "def angles_to_pwm(angles):\n",
    "    return 300 + 150 * angles[-4:-1]/np.pi\n",
    "    "
   ]
  },
  {
   "cell_type": "markdown",
   "metadata": {},
   "source": [
    "### Goal\n",
    "In the body frame, we have the $i$ th leg \n",
    "$$ (x,y,z)_i^T = f_i(\\theta^i_t, \\theta^i_m, \\theta^i_b)$$\n",
    "we want to choose a function $\\theta^i_t, \\theta^i_m, \\theta^i_b = \\gamma(s)$ such that $s \\in [0, 1]$\n",
    "\n",
    "Each leg consists of two 4R linkages and a parallelogram.\n",
    "\n",
    "Two key pivot points are given by the horizontal plane of the D brace.\n",
    "\n",
    "The two RRRR linkages define two derived angles."
   ]
  },
  {
   "cell_type": "code",
   "execution_count": 3,
   "metadata": {},
   "outputs": [
    {
     "data": {
      "text/plain": [
       "(-37.5*c_0 + 37.5*c_1 + 75.0*c_r - 7.5*s_0 - 7.5*s_1 - 16.0*s_2 - 16.0*s_3 - 66.0*s_a - 32.0*s_h - 15.0*s_r + 42.0,\n",
       " 15.0*c_1 + 32.0*c_3 + 66.0*c_a + 75.0*s_1 + 42.0,\n",
       " -75.0*c_r + 32.0*s_h + 15.0*s_r,\n",
       " ({s_0: sin(bodyangle - radial_angle),\n",
       "   s_1: sin(bodyangle + radial_angle),\n",
       "   s_2: sin(bodyangle - height_angle),\n",
       "   s_3: sin(bodyangle + height_angle),\n",
       "   s_4: -sin(height_angle - radial_angle),\n",
       "   s_5: sin(height_angle + radial_angle)},\n",
       "  {c_0: cos(bodyangle - radial_angle),\n",
       "   c_1: cos(bodyangle + radial_angle),\n",
       "   c_2: cos(bodyangle - height_angle),\n",
       "   c_3: cos(bodyangle + height_angle),\n",
       "   c_4: cos(height_angle - radial_angle),\n",
       "   c_5: cos(height_angle + radial_angle)}))"
      ]
     },
     "execution_count": 3,
     "metadata": {},
     "output_type": "execute_result"
    }
   ],
   "source": [
    "mdl.generate_leg_position_code()"
   ]
  },
  {
   "cell_type": "code",
   "execution_count": null,
   "metadata": {},
   "outputs": [],
   "source": []
  },
  {
   "cell_type": "code",
   "execution_count": null,
   "metadata": {},
   "outputs": [],
   "source": []
  },
  {
   "cell_type": "code",
   "execution_count": null,
   "metadata": {},
   "outputs": [],
   "source": []
  },
  {
   "cell_type": "code",
   "execution_count": null,
   "metadata": {},
   "outputs": [],
   "source": [
    "(x1,x2,x3,_,_,_), p,_ = mdl.get_leg_position()"
   ]
  },
  {
   "cell_type": "code",
   "execution_count": null,
   "metadata": {},
   "outputs": [],
   "source": [
    "X = sp.Matrix([[x1, x2, x3], [x1, x2, x3], [x1, x2, x3]])\n",
    "X_p = X + X.T\n",
    "X_m = X - X.T\n"
   ]
  },
  {
   "cell_type": "code",
   "execution_count": null,
   "metadata": {},
   "outputs": [],
   "source": [
    "x2"
   ]
  },
  {
   "cell_type": "code",
   "execution_count": null,
   "metadata": {},
   "outputs": [],
   "source": [
    "X_m"
   ]
  },
  {
   "cell_type": "code",
   "execution_count": null,
   "metadata": {},
   "outputs": [],
   "source": []
  },
  {
   "cell_type": "code",
   "execution_count": null,
   "metadata": {},
   "outputs": [],
   "source": []
  },
  {
   "cell_type": "code",
   "execution_count": null,
   "metadata": {},
   "outputs": [],
   "source": []
  },
  {
   "cell_type": "code",
   "execution_count": null,
   "metadata": {},
   "outputs": [],
   "source": []
  },
  {
   "cell_type": "code",
   "execution_count": null,
   "metadata": {},
   "outputs": [],
   "source": []
  },
  {
   "cell_type": "code",
   "execution_count": null,
   "metadata": {},
   "outputs": [],
   "source": []
  },
  {
   "cell_type": "code",
   "execution_count": null,
   "metadata": {},
   "outputs": [],
   "source": []
  },
  {
   "cell_type": "code",
   "execution_count": null,
   "metadata": {},
   "outputs": [],
   "source": [
    "x, p, c = mdl.get_leg_position()"
   ]
  },
  {
   "cell_type": "code",
   "execution_count": null,
   "metadata": {},
   "outputs": [],
   "source": []
  },
  {
   "cell_type": "code",
   "execution_count": null,
   "metadata": {},
   "outputs": [],
   "source": []
  }
 ],
 "metadata": {
  "kernelspec": {
   "display_name": "Python 3",
   "language": "python",
   "name": "python3"
  },
  "language_info": {
   "codemirror_mode": {
    "name": "ipython",
    "version": 3
   },
   "file_extension": ".py",
   "mimetype": "text/x-python",
   "name": "python",
   "nbconvert_exporter": "python",
   "pygments_lexer": "ipython3",
   "version": "3.6.9"
  }
 },
 "nbformat": 4,
 "nbformat_minor": 4
}
