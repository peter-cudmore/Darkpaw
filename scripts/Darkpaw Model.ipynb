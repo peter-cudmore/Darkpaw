{
 "cells": [
  {
   "cell_type": "code",
   "execution_count": 2,
   "metadata": {},
   "outputs": [],
   "source": [
    "import sympy as sp\n",
    "import numpy as np\n",
    "import cvxpy as cp\n",
    "import matplotlib.pyplot as plt\n",
    "\n",
    "from mpl_toolkits.mplot3d import Axes3D\n",
    "import model as mdl\n",
    "%matplotlib notebook\n",
    "plt.ion()\n",
    "\n",
    "def angles_to_pwm(angles):\n",
    "    return 300 + 150 * angles[-4:-1]/np.pi\n",
    "    "
   ]
  },
  {
   "cell_type": "markdown",
   "metadata": {},
   "source": [
    "### Goal\n",
    "In the body frame, we have the $i$ th leg \n",
    "$$ (x,y,z)_i^T = f_i(\\theta^i_t, \\theta^i_m, \\theta^i_b)$$\n",
    "we want to choose a function $\\theta^i_t, \\theta^i_m, \\theta^i_b = \\gamma(s)$ such that $s \\in [0, 1]$\n",
    "\n",
    "Each leg consists of two 4R linkages and a parallelogram.\n",
    "\n",
    "Two key pivot points are given by the horizontal plane of the D brace.\n",
    "\n",
    "The two RRRR linkages define two derived angles."
   ]
  },
  {
   "cell_type": "code",
   "execution_count": 13,
   "metadata": {},
   "outputs": [
    {
     "name": "stdout",
     "output_type": "stream",
     "text": [
      "900.0*sin(\\beta_A)*sin(u_b) - 400.0*sin(\\beta_A)*cos(u_b) - 3024.0*sin(\\beta_A) + 400.0*sin(u_b)*cos(\\beta_A) - 1050.0*sin(u_b) + 900.0*cos(\\beta_A)*cos(u_b) - 1344.0*cos(\\beta_A) + 1872.25\n",
      "900.0*sin(\\beta_A)*sin(u_b) - 400.0*sin(\\beta_A)*cos(u_b) - 3024.0*sin(\\beta_A) + 400.0*sin(u_b)*cos(\\beta_A) - 1050.0*sin(u_b) + 900.0*cos(\\beta_A)*cos(u_b) - 1344.0*cos(\\beta_A) + 1872.25\n",
      "900.0*sin(\\beta_A)*sin(u_b) - 400.0*sin(\\beta_A)*cos(u_b) - 3024.0*sin(\\beta_A) + 400.0*sin(u_b)*cos(\\beta_A) - 1050.0*sin(u_b) + 900.0*cos(\\beta_A)*cos(u_b) - 1344.0*cos(\\beta_A) + 1872.25\n",
      "900.0*sin(\\beta_A)*sin(u_b) - 400.0*sin(\\beta_A)*cos(u_b) - 3024.0*sin(\\beta_A) + 400.0*sin(u_b)*cos(\\beta_A) - 1050.0*sin(u_b) + 900.0*cos(\\beta_A)*cos(u_b) - 1344.0*cos(\\beta_A) + 1872.25\n"
     ]
    }
   ],
   "source": [
    "for front in (True, False):\n",
    "    for left in (True, False):\n",
    "        atoms, foot_pos, (f_a, f_b, f_t) = mdl.get_leg_position(front, left)\n",
    "        "
   ]
  },
  {
   "cell_type": "code",
   "execution_count": 47,
   "metadata": {},
   "outputs": [
    {
     "data": {
      "text/plain": [
       "'c*(-650.0*cos(u_h) - 338.0) + s*(-650.0*sin(u_h) - 1664.0) + 800.0*sin(u_h) + 162.5*cos(u_h) + 602.5'"
      ]
     },
     "execution_count": 47,
     "metadata": {},
     "output_type": "execute_result"
    }
   ],
   "source": [
    "(ba,bd,by, x1,x2,x3) , foot_pos, (f_a, f_b, f_t) = mdl.get_leg_position(True, True)\n",
    "str(f_a/100)\n",
    "s, c =  sp.symbols('s, c')\n",
    "f_b= f_b.subs([(sp.sin(by), s), (sp.cos(by), c)])\n",
    "str(f_b.collect((c, s)))"
   ]
  },
  {
   "cell_type": "code",
   "execution_count": null,
   "metadata": {},
   "outputs": [],
   "source": [
    "current_angles = update_method(desired_position, current_angles)\n",
    "angles_to_pwm(current_angles)"
   ]
  },
  {
   "cell_type": "code",
   "execution_count": null,
   "metadata": {},
   "outputs": [],
   "source": [
    "x, eqns, xform = mdl.create_leg_complex_problem()"
   ]
  },
  {
   "cell_type": "code",
   "execution_count": null,
   "metadata": {},
   "outputs": [],
   "source": [
    "from helpers import tan_simplify\n",
    "\n",
    "eqn = tan_simplify(mdl.f_b, mdl.beta_D, implicit=False)"
   ]
  },
  {
   "cell_type": "code",
   "execution_count": null,
   "metadata": {},
   "outputs": [],
   "source": [
    "U_H = np.linspace(-np.pi/2, np.pi/2, 125)\n",
    "BD = np.empty_like(U_H)\n",
    "for i, u_h in enumerate(U_H):\n",
    "    BD[i] = eqn.subs(mdl.u_h, i)"
   ]
  },
  {
   "cell_type": "code",
   "execution_count": null,
   "metadata": {},
   "outputs": [],
   "source": [
    "jacobian_terms = [[row.diff(x_i) for x_i in x] for row in eqns]\n"
   ]
  },
  {
   "cell_type": "code",
   "execution_count": null,
   "metadata": {},
   "outputs": [],
   "source": [
    "from helpers import Taylor_series\n",
    "eqns[3]"
   ]
  },
  {
   "cell_type": "code",
   "execution_count": null,
   "metadata": {},
   "outputs": [],
   "source": []
  },
  {
   "cell_type": "code",
   "execution_count": null,
   "metadata": {},
   "outputs": [],
   "source": [
    "# for a given height, generate a safe-set \n",
    "c"
   ]
  },
  {
   "cell_type": "code",
   "execution_count": null,
   "metadata": {},
   "outputs": [],
   "source": [
    "import cvxpy as cp\n",
    "import numpy as np\n",
    "\n",
    "X = cp.Variable(len(x))\n",
    "\n",
    "constraints = mdl.get_motor_bounds_constraints(X, x, u_to_x)\n",
    "constraints += mdl.get_quadratic_constraints(X, x, g)\n",
    "\n",
    "\n"
   ]
  },
  {
   "cell_type": "code",
   "execution_count": null,
   "metadata": {},
   "outputs": [],
   "source": []
  },
  {
   "cell_type": "code",
   "execution_count": null,
   "metadata": {},
   "outputs": [],
   "source": [
    "fig = plt.figure()\n",
    "ax = plt.gca()\n",
    "feet_paths = {}\n",
    "for i in range(4):\n",
    "    feet_paths[i], = plt.plot([],[])\n",
    "    \n",
    "\n",
    "def set_data(x_t):\n",
    "    for i, line in feet_paths.items():\n",
    "        \n",
    "    "
   ]
  },
  {
   "cell_type": "code",
   "execution_count": null,
   "metadata": {},
   "outputs": [],
   "source": [
    "f[i].subs()"
   ]
  },
  {
   "cell_type": "code",
   "execution_count": null,
   "metadata": {},
   "outputs": [],
   "source": [
    "g"
   ]
  },
  {
   "cell_type": "code",
   "execution_count": null,
   "metadata": {},
   "outputs": [],
   "source": [
    "x, p, c = mdl.get_leg_position()"
   ]
  },
  {
   "cell_type": "code",
   "execution_count": null,
   "metadata": {},
   "outputs": [],
   "source": []
  },
  {
   "cell_type": "code",
   "execution_count": null,
   "metadata": {},
   "outputs": [],
   "source": []
  }
 ],
 "metadata": {
  "kernelspec": {
   "display_name": "Python 3",
   "language": "python",
   "name": "python3"
  },
  "language_info": {
   "codemirror_mode": {
    "name": "ipython",
    "version": 3
   },
   "file_extension": ".py",
   "mimetype": "text/x-python",
   "name": "python",
   "nbconvert_exporter": "python",
   "pygments_lexer": "ipython3",
   "version": "3.6.9"
  }
 },
 "nbformat": 4,
 "nbformat_minor": 4
}
