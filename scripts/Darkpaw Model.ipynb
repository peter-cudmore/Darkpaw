{
 "cells": [
  {
   "cell_type": "code",
   "execution_count": 1,
   "metadata": {},
   "outputs": [],
   "source": [
    "import sympy as sp\n",
    "import numpy as np\n",
    "import cvxpy as cp\n",
    "import matplotlib.pyplot as plt\n",
    "\n",
    "from mpl_toolkits.mplot3d import Axes3D\n",
    "import model as mdl\n",
    "%matplotlib notebook\n",
    "plt.ion()\n",
    "\n",
    "def angles_to_pwm(angles):\n",
    "    return 300 + 150 * angles[-4:-1]/np.pi\n",
    "    "
   ]
  },
  {
   "cell_type": "markdown",
   "metadata": {},
   "source": [
    "### Goal\n",
    "In the body frame, we have the $i$ th leg \n",
    "$$ (x,y,z)_i^T = f_i(\\theta^i_t, \\theta^i_m, \\theta^i_b)$$\n",
    "we want to choose a function $\\theta^i_t, \\theta^i_m, \\theta^i_b = \\gamma(s)$ such that $s \\in [0, 1]$\n",
    "\n",
    "Each leg consists of two 4R linkages and a parallelogram.\n",
    "\n",
    "Two key pivot points are given by the horizontal plane of the D brace.\n",
    "\n",
    "The two RRRR linkages define two derived angles."
   ]
  },
  {
   "cell_type": "code",
   "execution_count": 2,
   "metadata": {},
   "outputs": [],
   "source": [
    "z, e, maps = mdl.create_leg_complex_problem()\n",
    "temp = e[4]\n",
    "e[4] = e[5]\n",
    "e[5]=temp"
   ]
  },
  {
   "cell_type": "markdown",
   "metadata": {},
   "source": [
    "If $f(z) = x$ with $z = \\exp(i\\theta)$, then\n",
    "$$\n",
    "\\dot{x} = Df_z\\dot{z} = iDf_zz\\dot{\\theta}\n",
    "$$\n",
    "So for a desired velocity $v$, we have $\\dot{\\theta} \\approx \\frac{1}{\\Delta t}(\\theta_{n+1} -\\theta_n)$ and hence\n",
    "$$ \n",
    "[v\\Delta t , 0]= i Df_z z (\\theta_{n+1} - \\theta_n)\n",
    "$$\n",
    "Let $J = i Df_z z$,the we have\n",
    "$ J =  [[A, 0], [B, C]]$ implies\n",
    "$ J^{-1} = [[A^{-1}, 0], [-D^{-1}CA^{-1}, D^{-1}]$.\n",
    "Hence $$ [v\\Delta t,0] = J(\\theta_{n+1} - \\theta_n)$$\n",
    "So\n",
    "$$\n",
    "\\theta_n + J^{-1}[v\\Delta t, 0]^T = \\theta_{n+1} \\implies \\theta^{0:3}_{n+1} = \\theta^{0:3}_{n} + A^{-1}v\\Delta_t\n",
    "$$\n",
    "and\n",
    "$$\n",
    "\\theta^{3:6}_{n+1} = \\theta_{n}^{3:6} -D^{-1}CA^{-1}v\\Delta_t \n",
    "$$\n",
    "if $\\det(D) \\ne 0$"
   ]
  },
  {
   "cell_type": "markdown",
   "metadata": {},
   "source": [
    "Algorithm:\n",
    "\n",
    "Preconditions:\n",
    "1. Solve $ g(w,z) = 0$ for $w = exp(u)$ where $u$ is the motor angles.\n",
    "2. Store coordinates $\\theta_0, u_0$.\n",
    "\n",
    "Algorithm:\n",
    "\n",
    "For a given velocity $v$.\n",
    "\n",
    "1. Compute $A = i Df_{z_n} z_n$ and make sure it is invertable.\n",
    "2. Solve $Ax_n = v\\Delta_t$, and set $\\theta_{n+1} = \\theta_n + x_n$ \n",
    "3. If $\\theta_{n+1}$ is not in reachable set, fail.\n",
    "4. Compute $D, C$ and solve $Du_{n+1} = Du_n - Cx_n$"
   ]
  },
  {
   "cell_type": "code",
   "execution_count": 3,
   "metadata": {},
   "outputs": [
    {
     "data": {
      "text/plain": [
       "[117.0, 155.0, -75.0]"
      ]
     },
     "execution_count": 3,
     "metadata": {},
     "output_type": "execute_result"
    }
   ],
   "source": [
    "J = sp.Matrix([[e_j.diff(z_i).simplify() for z_i in z] for j, e_j in enumerate(e)])\n",
    "Z_diag = sp.zeros(6,6)\n",
    "for i in range(6):\n",
    "    Z_diag[i,i] = 1j*z[i]\n",
    "\n",
    "J = J @ Z_diag\n",
    "z_tup = tuple(z_i for z_i in z)\n",
    "J_A = sp.lambdify(z_tup, J[0:3,0:3])\n",
    "J_C = sp.lambdify(z_tup, J[3:,0:3])\n",
    "J_D = sp.lambdify(z_tup, J[3:,3:])\n",
    "\n",
    "def alg_1(theta_n, u_n, vDt):\n",
    "    Z = [np.exp(1j*theta_i) for theta_i in theta_n] + [np.exp(1j*theta_i) for theta_i in u_n]\n",
    "    \n",
    "    A = np.real(J_A(*Z))\n",
    "    \n",
    "    Ai = np.linalg.inv(A)\n",
    "    \n",
    "    x = Ai @ vDt\n",
    "    \n",
    "    theta_next = [t  + x_i for t, x_i in zip(theta_n, x)]\n",
    "    \n",
    "    if not all( -np.pi / 2 < theta < np.pi/2 for theta in theta_n):\n",
    "        return None #unreachable\n",
    "    \n",
    "    C = J_C(*Z)\n",
    "    D = J_D(*Z)\n",
    "    DiCx = np.linalg.inv(D) @ C @ x\n",
    "    u_next = u_n+ DiCx\n",
    "    \n",
    "    return theta_next, u_next\n",
    "\n",
    "def explicit_fk(theta):\n",
    "    z_s = [np.exp(1j*th) for th in theta]\n",
    "    subs = [(z[i], z_s[i]) for i in range(3)]\n",
    "    values = [e[i].subs(subs).evalf() for i in range(3)]\n",
    "    return [complex(v).real for v in values]\n",
    "\n",
    "theta_0 = np.zeros(3)\n",
    "u_0 = np.zeros(3)\n",
    "v_0 = 0.0*np.ones(3)\n",
    "\n",
    "t1, u1  = alg_1(theta_0, u_0,v_0)\n",
    "u1, t1\n",
    "pos_ref = explicit_fk(t1)\n",
    "pos_ref    "
   ]
  },
  {
   "cell_type": "code",
   "execution_count": 4,
   "metadata": {},
   "outputs": [
    {
     "data": {
      "text/latex": [
       "$\\displaystyle 0.280411269862465 i w_{0}^{2} z_{0} + 0.24035251702497 w_{0}^{2} - 0.106823340899987 i w_{0}^{2} + 0.358926425423955 w_{0} z_{0}^{2} - 0.807584457203899 i w_{0} z_{0}^{2} - 1.0 w_{0} z_{0} + 0.358926425423955 w_{0} + 0.807584457203899 i w_{0} + 0.24035251702497 z_{0}^{2} + 0.106823340899987 i z_{0}^{2} - 0.280411269862465 i z_{0}$"
      ],
      "text/plain": [
       "0.280411269862465*I*w_0**2*z_0 + 0.24035251702497*w_0**2 - 0.106823340899987*I*w_0**2 + 0.358926425423955*w_0*z_0**2 - 0.807584457203899*I*w_0*z_0**2 - 1.0*w_0*z_0 + 0.358926425423955*w_0 + 0.807584457203899*I*w_0 + 0.24035251702497*z_0**2 + 0.106823340899987*I*z_0**2 - 0.280411269862465*I*z_0"
      ]
     },
     "execution_count": 4,
     "metadata": {},
     "output_type": "execute_result"
    }
   ],
   "source": [
    "e[3]"
   ]
  },
  {
   "cell_type": "markdown",
   "metadata": {},
   "source": [
    "pos[1]"
   ]
  },
  {
   "cell_type": "code",
   "execution_count": 5,
   "metadata": {},
   "outputs": [],
   "source": [
    "# Solve |x - x_target| = 0\n",
    "# S.t. x = f(z)\n",
    "# F(u) = |x - f(z)|^2 , \n",
    "# g(z,u) = 0\n",
    "# A u < b\n",
    "\n"
   ]
  },
  {
   "cell_type": "code",
   "execution_count": 6,
   "metadata": {},
   "outputs": [
    {
     "data": {
      "text/plain": [
       "array([4.0474e-320, 1.6601e-321, 0.0000e+000])"
      ]
     },
     "execution_count": 6,
     "metadata": {},
     "output_type": "execute_result"
    }
   ],
   "source": [
    "# Start\n",
    "# get x_0\n",
    "# - solve z_0 : g(z_0,0) = 0\n",
    "# - solve f(z_0) = x_0\n",
    "# \n",
    "# Let v = 100mm/s and dt = 0.05 (20hz or 50ms)\n",
    "# Let h = x_0^3\n",
    "# Solve:\n",
    "# while ( has_solution ):\n",
    "#   u_{n+1}, z_{n+1} = solve min |f(z) - x_n - v*dt*e_x| \n",
    "#   x_{n+1} = f(z_{n+1})\n",
    "# plot \n",
    "\n",
    "U = np.empty(shape=(128, 3), dtype=float)\n",
    "TH = np.empty_like(U)\n",
    "N = 0\n",
    "U[0, :] = np.zeros(3)\n",
    "TH[0, :]\n",
    "    \n"
   ]
  },
  {
   "cell_type": "code",
   "execution_count": 7,
   "metadata": {},
   "outputs": [
    {
     "data": {
      "text/latex": [
       "$\\displaystyle dz_{1} \\left(- 37.5 z_{1}^{2} z_{2}^{2} - 7.5 i z_{1}^{2} z_{2}^{2} + 37.5 z_{2}^{2} - 7.5 i z_{2}^{2}\\right) + dz_{2} \\left(- 16.0 i z_{1}^{2} z_{2}^{2} - 16.0 i z_{1}^{2}\\right)$"
      ],
      "text/plain": [
       "dz_1*(-37.5*z_1**2*z_2**2 - 7.5*I*z_1**2*z_2**2 + 37.5*z_2**2 - 7.5*I*z_2**2) + dz_2*(-16.0*I*z_1**2*z_2**2 - 16.0*I*z_1**2)"
      ]
     },
     "execution_count": 7,
     "metadata": {},
     "output_type": "execute_result"
    }
   ],
   "source": [
    "dz = sp.symbols('dz_0, dz_1, dz_2')\n",
    "de_2 = [e[2].expand().diff(z_i) for z_i in z[0:3]]\n",
    "dec_2 = sum(de_i*dz_i for de_i, dz_i in zip(de_2, dz))\n",
    "dec_2 = (dec_2*(z[1]*z[2])**2).expand()\n",
    "dh = dec_2.collect(dz)\n",
    "dh"
   ]
  },
  {
   "cell_type": "code",
   "execution_count": 8,
   "metadata": {},
   "outputs": [
    {
     "data": {
      "text/latex": [
       "$\\displaystyle dz_{0} \\left(7.5 z_{0}^{2} z_{1}^{3} z_{2}^{2} - 37.5 i z_{0}^{2} z_{1}^{3} z_{2}^{2} + 16.0 z_{0}^{2} z_{1}^{2} z_{2}^{3} + 33.0 z_{0}^{2} z_{1}^{2} z_{2}^{2} - 33.0 z_{1}^{2} z_{2}^{2} - 16.0 z_{1}^{2} z_{2} - 7.5 z_{1} z_{2}^{2} - 37.5 i z_{1} z_{2}^{2}\\right) + dz_{1} \\left(7.5 z_{0}^{3} z_{1}^{2} z_{2}^{2} - 37.5 i z_{0}^{3} z_{1}^{2} z_{2}^{2} - 7.5 z_{0} z_{2}^{2} - 37.5 i z_{0} z_{2}^{2}\\right) + dz_{2} \\left(16.0 z_{0}^{3} z_{1}^{2} z_{2}^{2} - 16.0 z_{0} z_{1}^{2}\\right)$"
      ],
      "text/plain": [
       "dz_0*(7.5*z_0**2*z_1**3*z_2**2 - 37.5*I*z_0**2*z_1**3*z_2**2 + 16.0*z_0**2*z_1**2*z_2**3 + 33.0*z_0**2*z_1**2*z_2**2 - 33.0*z_1**2*z_2**2 - 16.0*z_1**2*z_2 - 7.5*z_1*z_2**2 - 37.5*I*z_1*z_2**2) + dz_1*(7.5*z_0**3*z_1**2*z_2**2 - 37.5*I*z_0**3*z_1**2*z_2**2 - 7.5*z_0*z_2**2 - 37.5*I*z_0*z_2**2) + dz_2*(16.0*z_0**3*z_1**2*z_2**2 - 16.0*z_0*z_1**2)"
      ]
     },
     "execution_count": 8,
     "metadata": {},
     "output_type": "execute_result"
    }
   ],
   "source": [
    "de_1 = [e[1].expand().diff(z_i) for z_i in z[0:3]]\n",
    "dec_1 = sum(de_i*dz_i for de_i, dz_i in zip(de_1, dz))\n",
    "dec_1 = (dec_1*(z[0]*z[1]*z[2])**2).expand()\n",
    "dy = dec_1.collect(dz)\n",
    "dy"
   ]
  },
  {
   "cell_type": "code",
   "execution_count": 9,
   "metadata": {},
   "outputs": [],
   "source": [
    "n = 250\n",
    "t1,t2 = np.meshgrid(np.linspace(-np.pi, np.pi, n),np.linspace(-np.pi / 2, np.pi / 2, n))\n",
    "# pwm range : 100 to 500 (401 values)\n",
    "# maps to     -pi/2 to pi/2\n",
    "pwm = np.linspace(-np.pi/2, np.pi/2, 401)\n",
    "leg_angles = np.empty(shape=(401, 3), dtype=float)\n",
    "leg_grad = np.empty_like(leg_angles)\n",
    "import scipy.optimize as spo\n",
    "\n",
    "DF = [\n",
    "    sp.simplify(-e[i + 3].diff(z[i + 3])/e[i + 3].diff(z[i])) for i in range(3)\n",
    "]\n",
    "bounds = []"
   ]
  },
  {
   "cell_type": "markdown",
   "metadata": {},
   "source": [
    "  "
   ]
  },
  {
   "cell_type": "code",
   "execution_count": 10,
   "metadata": {},
   "outputs": [
    {
     "data": {
      "image/png": "[encoded data removed]",
      "text/plain": [
       "<Figure size 432x288 with 1 Axes>"
      ]
     },
     "metadata": {},
     "output_type": "display_data"
    }
   ],
   "source": [
    "f_1= sp.lambdify((z[0], z[3]), abs(e[3])**2, 'numpy')\n",
    "df_1 = sp.lambdify((z[0], z[3]), DF[0], 'numpy')\n",
    "plt.figure(0)\n",
    "plt.contour(t2, t1, f_1(np.exp(1j*t1),np.exp(1j*t2)), [0,  0.1,  0.535])\n",
    "\n",
    "for i in range(401):\n",
    "    f = lambda x: f_1(np.exp(1j*x), np.exp(1j*pwm[i]))\n",
    "    res = spo.minimize_scalar(f, bounds=(-1, 1))\n",
    "    leg_angles[i,0] = res.x\n",
    "    leg_grad[i, 0] = np.real(df_1(np.exp(1j*res.x), np.exp(1j*pwm[i])))\n",
    "    \n",
    "plt.plot(pwm, leg_angles[:, 0])\n",
    "plt.plot(pwm, leg_grad[:, 0])\n",
    "plt.show()"
   ]
  },
  {
   "cell_type": "code",
   "execution_count": 11,
   "metadata": {},
   "outputs": [
    {
     "data": {
      "image/png": "[encoded data removed]",
      "text/plain": [
       "<Figure size 432x288 with 1 Axes>"
      ]
     },
     "metadata": {},
     "output_type": "display_data"
    }
   ],
   "source": [
    "f_2 = sp.lambdify((z[1], z[4]), abs(e[4])**2, 'numpy')\n",
    "df_2 = sp.lambdify((z[1], z[4]), DF[1], 'numpy')\n",
    "plt.figure(1)\n",
    "plt.contour(t2,t1, f_2(np.exp(1j*t1),np.exp(1j*t2)), [0, 0.01, 0.05])\n",
    "\n",
    "for i in range(401):\n",
    "    f = lambda x:  1000*f_2(np.exp(1j*x), np.exp(1j*pwm[i]))\n",
    "    res = spo.minimize_scalar(f, bounds=(-1, 0.5), method='bounded')\n",
    "    leg_angles[i,1] = res.x\n",
    "    leg_grad[i, 1] = np.real(df_2(np.exp(1j*res.x), np.exp(1j*pwm[i])))\n",
    "\n",
    "plt.plot(pwm, leg_angles[:, 1])\n",
    "plt.plot(pwm, leg_grad[:, 1])\n",
    "plt.show()"
   ]
  },
  {
   "cell_type": "code",
   "execution_count": 12,
   "metadata": {},
   "outputs": [
    {
     "data": {
      "image/png": "[encoded data removed]",
      "text/plain": [
       "<Figure size 432x288 with 1 Axes>"
      ]
     },
     "metadata": {},
     "output_type": "display_data"
    }
   ],
   "source": [
    "f_3 = sp.lambdify((z[2], z[5]), abs(e[5])**2, 'numpy')\n",
    "df_3 = sp.lambdify((z[2], z[5]), DF[2], 'numpy')\n",
    "plt.figure(2)\n",
    "plt.contour(t2,t1, f_3(np.exp(1j*t1),np.exp(1j*t2)), [0, 0.001,  0.1,  0.535])\n",
    "\n",
    "for i in range(401):\n",
    "    f = lambda x:  f_3(np.exp(1j*x), np.exp(1j*pwm[i]))\n",
    "    res = spo.minimize_scalar(f, bounds=(-1, 0.5), method='bounded')\n",
    "    leg_angles[i,2] = res.x\n",
    "    leg_grad[i,2] = np.real(df_3(np.exp(1j*res.x), np.exp(1j*pwm[i])))\n",
    "\n",
    "plt.plot(pwm, leg_angles[:, 2])\n",
    "plt.plot(pwm, leg_grad[:, 2])\n",
    "plt.show()"
   ]
  },
  {
   "cell_type": "code",
   "execution_count": 13,
   "metadata": {},
   "outputs": [],
   "source": [
    "# leg_angles now has the mapping between pwn and theta values\n",
    "# now we can solve inverse kinematics directly.\n",
    "# x = f(z) = f(z(u))\n",
    "# so x_{n + 1} = x_n + v dt  = f(z) + D_zf * (Dz / Du) \n",
    "# solve: (u_{n+1}- u_n)/(z_{n+1} - z_n) = D_z[f(z)]^{-1} v dt"
   ]
  },
  {
   "cell_type": "code",
   "execution_count": 14,
   "metadata": {},
   "outputs": [],
   "source": [
    "leg_pos = sp.lambdify((z[0], z[1], z[2]), np.real(e[0:3]))\n",
    "leg_pos_jacobian = sp.lambdify(\n",
    "    (z[0], z[1], z[2]), [[(1j * z_i * e_j.diff(z_i)).simplify() for z_i in z[0:3]] for e_j in e[0:3]]\n",
    ")\n",
    "def pwm_rad_to_index(pwm_value):\n",
    "    if (pwm_value < pwm[0]) or (pwm_value > pwm[-1]):\n",
    "        return None\n",
    "    idx = (np.abs(pwm - pwm_value)).argmin()\n",
    "    \n",
    "    return idx\n",
    "    \n",
    "\n",
    "def forward_kinematics(pwm_0_rad, pwm_1_rad, pwm_2_rad):\n",
    "    # i0 = pwm_rad_to_index(pwm_0_rad)\n",
    "    i0 = (np.abs(pwm - pwm_0_rad)).argmin()\n",
    "    i1 = (np.abs(pwm - pwm_1_rad)).argmin()\n",
    "    i2 = (np.abs(pwm - pwm_2_rad)).argmin()\n",
    "    z_0 = np.exp(1j*leg_angles[i0,0])\n",
    "    z_1 = np.exp(1j*leg_angles[i1,1])\n",
    "    z_2 = np.exp(1j*leg_angles[i2,2])\n",
    "    \n",
    "    return [np.real(x_i ) for x_i in leg_pos(z_0,z_1, z_2)]\n",
    "\n",
    "def forward_differential_kinematics(pwm_0_rad, pwm_1_rad, pwm_2_rad):\n",
    "    i0  = pwm_rad_to_index(pwm_0_rad)\n",
    "    i1  = pwm_rad_to_index(pwm_1_rad)\n",
    "    i2  = pwm_rad_to_index(pwm_2_rad)\n",
    "    \n",
    "    if any(i is None for i in [i0, i1, i2]):\n",
    "        return None\n",
    "    if any(leg_grad[i, idx] <= 0 for idx, i in enumerate([i0, i1, i2])):\n",
    "        return None\n",
    "    \n",
    "    z_0 = np.exp(1j*leg_angles[i0,0])\n",
    "    z_1 = np.exp(1j*leg_angles[i1,1])\n",
    "    z_2 = np.exp(1j*leg_angles[i2,2])\n",
    "    \n",
    "    j_star = np.real(leg_pos_jacobian(z_0, z_1, z_2))\n",
    "    d_star = np.diag([leg_grad[i, idx] for idx, i in enumerate([i1, i1, i2])])\n",
    "    \n",
    "    return j_star @ d_star"
   ]
  },
  {
   "cell_type": "code",
   "execution_count": 55,
   "metadata": {},
   "outputs": [
    {
     "data": {
      "text/plain": [
       "[-15.0*c_1*s_0 + 75.0*c_1 - 32.0*c_2*s_0 - 75.0*s_0*s_1 - 66.0*s_0 - 15.0*s_1 - 32.0*s_2 + 42.0,\n",
       " 15.0*c_0*c_1 + 32.0*c_0*c_2 + 75.0*c_0*s_1 + 66.0*c_0 + 75.0*c_1*s_0 - 15.0*s_0*s_1 - 32.0*s_0*s_2 + 42.0,\n",
       " -75.0*c_1 + 15.0*s_1 + 32.0*s_2]"
      ]
     },
     "execution_count": 55,
     "metadata": {},
     "output_type": "execute_result"
    }
   ],
   "source": [
    "atoms, pos, _ = mdl.get_leg_position()\n",
    "angles = atoms[0:3]\n",
    "from sympy.utilities.codegen import codegen\n",
    "eqs = []\n",
    "subs = []\n",
    "for i, th in enumerate(atoms[0:3]):\n",
    "    s_i, c_i = sp.symbols(f\"s_{i}, c_{i}\")\n",
    "    sin_i = sp.sin(th)\n",
    "    cos_i = sp.cos(th)\n",
    "    subs.append((sin_i, s_i))\n",
    "    subs.append((cos_i, c_i))\n",
    "    eqs.append(sp.Eq(s_i, sin_i))\n",
    "    eqs.append(sp.Eq(c_i, cos_i))\n",
    "\n",
    "P = [ p.subs(subs) for p in pos]\n",
    "\n",
    "J = [[pos[i].diff(x_j).subs(subs) for x_j in angles] for i in range(3)]\n",
    "\n",
    "P"
   ]
  },
  {
   "cell_type": "code",
   "execution_count": 15,
   "metadata": {},
   "outputs": [
    {
     "name": "stdout",
     "output_type": "stream",
     "text": [
      "Reached bounds\n"
     ]
    },
    {
     "data": {
      "text/plain": [
       "[<matplotlib.lines.Line2D at 0x7fdbb9ae26d8>]"
      ]
     },
     "execution_count": 15,
     "metadata": {},
     "output_type": "execute_result"
    },
    {
     "data": {
      "image/png": "[encoded data removed]",
      "text/plain": [
       "<Figure size 432x288 with 1 Axes>"
      ]
     },
     "metadata": {},
     "output_type": "display_data"
    },
    {
     "data": {
      "image/png": "[encoded data removed]",
      "text/plain": [
       "<Figure size 432x288 with 1 Axes>"
      ]
     },
     "metadata": {},
     "output_type": "display_data"
    },
    {
     "data": {
      "image/png": "[encoded data removed]",
      "text/plain": [
       "<Figure size 432x288 with 1 Axes>"
      ]
     },
     "metadata": {},
     "output_type": "display_data"
    }
   ],
   "source": [
    "# target frequency: 100hz, dt = 1 /100\n",
    "# target speed: 500 mm/s\n",
    "# solve f(u[n+1]) - f(u[n])  = vdt\n",
    "#       implies Df(u_n)(u_n+1 - u_n) = vdt\n",
    "x_rest = np.array(forward_kinematics(0,0,0))\n",
    "vdt = np.array([1, 0.0, 0.0])\n",
    "N_max = 1000\n",
    "N = 0\n",
    "U = np.zeros(shape=(3, N_max), dtype=float)\n",
    "IDX = np.zeros(shape=(3, N_max), dtype=int)\n",
    "IDX[:,0] = [200,200,200]\n",
    "X = np.empty_like(U)\n",
    "X[:, 0] = x_rest\n",
    "\n",
    "while N < (N_max - 2):\n",
    " \n",
    "    Df_now = forward_differential_kinematics(*U[:, N].tolist())\n",
    "    if Df_now is None or (abs(np.linalg.det(Df_now)) < 0.01):\n",
    "        print(\"Reached bounds\")\n",
    "        break\n",
    "    u_next = U[:, N] + np.linalg.inv(Df_now) @ vdt\n",
    "    \n",
    "    for i in range(3):\n",
    "        idx = pwm_rad_to_index(u_next[i])\n",
    "        IDX[i, N + 1] = idx\n",
    "        U[i, N + 1] = pwm[idx]\n",
    "    \n",
    "    X[:, N + 1] = forward_kinematics(*U[:, N + 1].tolist())\n",
    "    N += 1\n",
    "    \n",
    "f = plt.figure(4)\n",
    "plt.plot(np.arange(1,N), X[0,1:N] -X[0, 0: N -1], 'r')\n",
    "plt.plot(np.arange(1, N), X[1,1:N] -X[1, 0: N -1],'g')\n",
    "plt.plot(np.arange(1, N), X[2,1:N] -X[2, 0: N -1],'b')\n",
    "\n",
    "f = plt.figure(5)\n",
    "plt.plot(np.arange(N), U[0,:N],'r')\n",
    "plt.plot(np.arange(N), U[1,:N],'g')\n",
    "plt.plot(np.arange(N), U[2,:N],'b')\n",
    "\n",
    "\n",
    "f = plt.figure(6)\n",
    "plt.plot(np.arange(N), IDX[0,:N],'r')\n",
    "plt.plot(np.arange(N), IDX[1,:N],'g')\n",
    "plt.plot(np.arange(N), IDX[2,:N])\n"
   ]
  },
  {
   "cell_type": "code",
   "execution_count": 16,
   "metadata": {},
   "outputs": [],
   "source": [
    "def inverse_kinematics(x_desired, u_current=None, tolerance_mm=1, max_iters=100):\n",
    "    # g = f(u) - x_desired\n",
    "    # Dg = Df(u)\n",
    "    # u_n+1 = u_n - Df(u_n)^{-1}[f(u_n) - x_desired]\n",
    "    if u_current is None:\n",
    "        u_current = np.array([0, 0, 0], dtype=float)\n",
    "\n",
    "    tol_sqr= tolerance_mm**2\n",
    "    \n",
    "    for iters in range(max_iters):\n",
    "        g = forward_kinematics(*u_current.tolist()) - x_desired\n",
    "        if g.T @ g < tol_sqr:\n",
    "            return u_current\n",
    "        \n",
    "        Dg = forward_differential_kinematics(*u_current.tolist())\n",
    "        if Dg is None or abs(np.linalg.det(Dg)) < 1:\n",
    "            break\n",
    "        \n",
    "        # replace with:  solve Dg u_next = Dg @ current - g  \n",
    "        # Dg = L @ D @ U -. U(u_+ - u_-) = D^{-1} L^{-1} \n",
    "        # x = u_next - u_current  \n",
    "        # u_next = x + b\n",
    "        u_current -= np.linalg.inv(Dg) @ g \n",
    "        \n",
    "    return None # failed to congerge\n"
   ]
  },
  {
   "cell_type": "code",
   "execution_count": 17,
   "metadata": {},
   "outputs": [],
   "source": [
    "# footstep planner\n",
    "# support n_gons = a_1x_1 + a_2x_2 + a_3x_3 + a_4x_4 = 0 \n",
    "\n",
    "\n"
   ]
  },
  {
   "cell_type": "markdown",
   "metadata": {},
   "source": [
    "## Footstep planning\n",
    "1. find the three legs supporting the center of mass - three placed legs, or one with largest area\n",
    "2. work out how long until the com leaves the suppot polygon (or the leg hits bounds) at the current speed\n",
    "3. work out where to place the spare leg at the switch point \n",
    "4. pick the next 'worst' leg."
   ]
  },
  {
   "cell_type": "code",
   "execution_count": 18,
   "metadata": {},
   "outputs": [],
   "source": [
    "from scipy.linalg import lu\n",
    "Xn = np.empty(shape=(12,), dtype=float)\n",
    "Xn[0:3] = x_rest\n",
    "Xn[3:6] = x_rest\n",
    "Xn[3] = -Xn[3] + 10\n",
    "Xn[6:9] = x_rest\n",
    "Xn[7] = -Xn[7]\n",
    "Xn[9:12] = x_rest\n",
    "Xn[9:11] = - Xn[9:11]\n",
    "\n",
    "\n"
   ]
  },
  {
   "cell_type": "code",
   "execution_count": 19,
   "metadata": {},
   "outputs": [],
   "source": [
    "def closest_point_to_origin(x_0, x_1):\n",
    "    r = x_1 - x_0\n",
    "    t = - x_0.T @ r / (r @ r)\n",
    "    if t <= 0:\n",
    "        return x_0\n",
    "    if t >= 1:\n",
    "        return x_0\n",
    "    return x_0*(1-t) + x_1 * t"
   ]
  },
  {
   "cell_type": "code",
   "execution_count": null,
   "metadata": {},
   "outputs": [],
   "source": []
  },
  {
   "cell_type": "code",
   "execution_count": 20,
   "metadata": {},
   "outputs": [
    {
     "ename": "IndentationError",
     "evalue": "expected an indented block (<ipython-input-20-3e2b9e46b5e4>, line 50)",
     "output_type": "error",
     "traceback": [
      "\u001b[0;36m  File \u001b[0;32m\"<ipython-input-20-3e2b9e46b5e4>\"\u001b[0;36m, line \u001b[0;32m50\u001b[0m\n\u001b[0;31m    def position(self, t):\u001b[0m\n\u001b[0m      ^\u001b[0m\n\u001b[0;31mIndentationError\u001b[0m\u001b[0;31m:\u001b[0m expected an indented block\n"
     ]
    }
   ],
   "source": [
    "# reset curve: x(s) =  [ l*(x_reset, y_reset) + (1-l)(x_lift, y_lift), h - l(1-l)h_max\n",
    "# stroke curve: x(s) = x(s - ds) + dt*(v + \\omega e_z \\cross x(s)), z = 0\n",
    "# for l = (s - s_t)/(1 - s_t)\n",
    "# given x_now\n",
    "e_z = np.array([0,0,1], dtype=float)\n",
    "L_z = np.array([[0,1,0],[-1,0,0],[0,0,1]])\n",
    "class Walk:\n",
    "    def __init__(self,  dx, dy, omega=0, stance_height=0):\n",
    "        self.x_rest = np.array([x_rest[0], x_rest[1], x_rest[2] + stance_height] )\n",
    "        self.u_rest = inverse_kinematics(self.x_rest)\n",
    "        self.dx = dx\n",
    "        self.dy = dy\n",
    "        self.s_reset = 0\n",
    "        self.omega = omega\n",
    "        self.x0 = np.empty_like(self.x_rest)\n",
    "        self.x1 = np.empty_like(self.x_rest)\n",
    "        self._find_extent()\n",
    "        \n",
    "    def _find_extent(self):\n",
    "        t_start = 0\n",
    "        t_final = 0\n",
    "        dt = 0.1\n",
    "        x_next = self.x_rest \n",
    "        while (True):\n",
    "            x = x_next + dt *np.array([self.dx - self.omega * x_next[1], self.dy + self.omega * x_next[0], 0], dtype=float)\n",
    "            u = inverse_kinematics(x)\n",
    "            if u is None:\n",
    "                break\n",
    "            t_final += dt\n",
    "            x_next = x\n",
    "        self.x1[:] = x_next[:]\n",
    "        x_next = self.x_rest \n",
    "        while (True):\n",
    "            x = x_next - dt *np.array([self.dx - self.omega * x_next[1], self.dy + self.omega*x_next[0], 0], dtype=float)\n",
    "            u = inverse_kinematics(x)\n",
    "            if u is None:\n",
    "                break\n",
    "            t_start += dt\n",
    "            x_next = x\n",
    "        self.x0[:] = x_next[:]\n",
    "        \n",
    "        self.t_sweep = t_start + t_final\n",
    "        self.t_reset = 1\n",
    "        self.t_cycle = t_start + t_final + 1\n",
    "        \n",
    "    \n",
    "    def reset(x_start, x_finish, height, t, t_max):\n",
    "        \n",
    "    \n",
    "    def position(self, t):\n",
    "        s = np.mod(t, self.t_cycle) \n",
    "        \n",
    "        if s > self.t_sweep:\n",
    "            l = (s - self.t_sweep)/ self.t_reset\n",
    "            return self.x0 * l + self.x1 * (1 - l) + 20*(1 - l) * l * e_z\n",
    "        v = np.array([self.dx, self.dy, 0])\n",
    "        \n",
    "        p = self.x0 + s * v\n",
    "        if self.omega != 0:\n",
    "            c1 = (1 - np.cos(self.omega * s))/self.omega\n",
    "            s1 = np.sin(self.omega* s) / self.omega\n",
    "            p += c1 * L_z @ v + (s - s1) * L_z @ L_z @ v\n",
    "        return p\n",
    "        \n",
    "        \n",
    "        \n",
    "    \n",
    "\n",
    "w.x0\n",
    "w.x1"
   ]
  },
  {
   "cell_type": "code",
   "execution_count": null,
   "metadata": {},
   "outputs": [],
   "source": [
    "# plot x(s), u(s)"
   ]
  },
  {
   "cell_type": "code",
   "execution_count": null,
   "metadata": {},
   "outputs": [],
   "source": [
    "w = Walk(2, 0, 0)        \n",
    "T = np.linspace(0, w.t_cycle, 100)\n",
    "X = np.empty(shape=(100, 3))\n",
    "for i, t in enumerate(T):\n",
    "    X[i, :] = w.position(t) - x_rest\n",
    "\n",
    "f = plt.figure(6)\n",
    "plt.plot(T, X)"
   ]
  },
  {
   "cell_type": "code",
   "execution_count": null,
   "metadata": {},
   "outputs": [],
   "source": []
  },
  {
   "cell_type": "code",
   "execution_count": null,
   "metadata": {},
   "outputs": [],
   "source": []
  },
  {
   "cell_type": "code",
   "execution_count": 89,
   "metadata": {},
   "outputs": [
    {
     "data": {
      "text/plain": [
       "262"
      ]
     },
     "execution_count": 89,
     "metadata": {},
     "output_type": "execute_result"
    }
   ],
   "source": [
    "500-238"
   ]
  },
  {
   "cell_type": "code",
   "execution_count": 60,
   "metadata": {},
   "outputs": [
    {
     "data": {
      "text/plain": [
       "(0,\n",
       " (15360.0*c_0**2*c_2**2*s_1,\n",
       "  15360.0*c_2**2*s_0**2*s_1,\n",
       "  31680.0*c_0**2*c_2*s_1,\n",
       "  31680.0*c_2*s_0**2*s_1,\n",
       "  36000.0*c_0**2*c_2*s_1**2,\n",
       "  36000.0*c_2*s_0**2*s_1**2,\n",
       "  -76800.0*c_0**2*c_1*c_2**2,\n",
       "  -76800.0*c_1*c_2**2*s_0**2,\n",
       "  -7200.0*c_0**2*c_1**2*s_2,\n",
       "  -7200.0*c_1**2*s_0**2*s_2,\n",
       "  -31680.0*c_0**2*c_1*s_2,\n",
       "  -31680.0*c_1*s_0**2*s_2,\n",
       "  -36000.0*c_0**2*c_1**2*c_2,\n",
       "  -36000.0*c_1**2*c_2*s_0**2,\n",
       "  -158400.0*c_0**2*c_1*c_2,\n",
       "  -158400.0*c_1*c_2*s_0**2,\n",
       "  -158400.0*c_0**2*s_1*s_2,\n",
       "  -158400.0*s_0**2*s_1*s_2,\n",
       "  -180000.0*c_0**2*s_1**2*s_2,\n",
       "  -180000.0*s_0**2*s_1**2*s_2,\n",
       "  7200.0*c_0*c_2*s_0*s_1**2,\n",
       "  36000.0*c_0*c_1**2*s_0*s_2,\n",
       "  180000.0*c_0*c_1**2*c_2*s_0,\n",
       "  -15360.0*c_0*c_1*s_0*s_2**2,\n",
       "  -15360.0*c_0**2*c_1*c_2*s_2,\n",
       "  -15360.0*c_1*c_2*s_0**2*s_2,\n",
       "  -76800.0*c_0*s_0*s_1*s_2**2,\n",
       "  -76800.0*c_0**2*c_2*s_1*s_2,\n",
       "  -76800.0*c_2*s_0**2*s_1*s_2,\n",
       "  -172800.0*c_0**2*c_1*c_2*s_1,\n",
       "  -172800.0*c_1*c_2*s_0**2*s_1,\n",
       "  -36000.0*c_0*s_0*s_1**2*s_2,\n",
       "  -72000.0*c_0**2*c_1*s_1*s_2,\n",
       "  -72000.0*c_1*s_0**2*s_1*s_2,\n",
       "  15360.0*c_0*c_2*s_0*s_1*s_2,\n",
       "  172800.0*c_0*c_1*s_0*s_1*s_2,\n",
       "  -76800.0*c_0*c_1*c_2*s_0*s_2,\n",
       "  -72000.0*c_0*c_1*c_2*s_0*s_1))"
      ]
     },
     "execution_count": 60,
     "metadata": {},
     "output_type": "execute_result"
    }
   ],
   "source": [
    "eqn = sp.Matrix(J).det()\n",
    "eqn.as_coeff_add()"
   ]
  },
  {
   "cell_type": "code",
   "execution_count": 63,
   "metadata": {},
   "outputs": [],
   "source": [
    "S = [s for s in eqn.atoms() if s.is_symbol]"
   ]
  },
  {
   "cell_type": "code",
   "execution_count": 73,
   "metadata": {},
   "outputs": [
    {
     "data": {
      "text/plain": [
       "(-180000.000000000,\n",
       " [(1.0*c_1*c_2 + 0.2*c_1*s_2 - 0.2*c_2*s_1 + 1.0*s_1*s_2, 1),\n",
       "  (0.2*c_0**2*c_1 + 0.426666666666667*c_0**2*c_2 + 1.0*c_0**2*s_1 + 0.88*c_0**2 - 1.0*c_0*c_1*s_0 + 0.2*c_0*s_0*s_1 + 0.426666666666667*c_0*s_0*s_2 + 0.2*c_1*s_0**2 + 0.426666666666667*c_2*s_0**2 + 1.0*s_0**2*s_1 + 0.88*s_0**2,\n",
       "   1)])"
      ]
     },
     "execution_count": 73,
     "metadata": {},
     "output_type": "execute_result"
    }
   ],
   "source": [
    "sp.factor_list(eqn)"
   ]
  },
  {
   "cell_type": "code",
   "execution_count": 84,
   "metadata": {},
   "outputs": [],
   "source": [
    "eqn1 = eqn - eqn.coeff(S[0],0)"
   ]
  },
  {
   "cell_type": "code",
   "execution_count": 87,
   "metadata": {},
   "outputs": [
    {
     "data": {
      "text/latex": [
       "$\\displaystyle 0$"
      ],
      "text/plain": [
       "0"
      ]
     },
     "execution_count": 87,
     "metadata": {},
     "output_type": "execute_result"
    }
   ],
   "source": [
    "eqn1.coeff(S[0],0)"
   ]
  },
  {
   "cell_type": "code",
   "execution_count": null,
   "metadata": {},
   "outputs": [],
   "source": []
  }
 ],
 "metadata": {
  "kernelspec": {
   "display_name": "Python 3",
   "language": "python",
   "name": "python3"
  },
  "language_info": {
   "codemirror_mode": {
    "name": "ipython",
    "version": 3
   },
   "file_extension": ".py",
   "mimetype": "text/x-python",
   "name": "python",
   "nbconvert_exporter": "python",
   "pygments_lexer": "ipython3",
   "version": "3.6.9"
  }
 },
 "nbformat": 4,
 "nbformat_minor": 4
}
